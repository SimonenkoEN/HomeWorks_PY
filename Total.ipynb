{
 "cells": [
  {
   "cell_type": "code",
   "execution_count": 1,
   "id": "01949e53",
   "metadata": {},
   "outputs": [
    {
     "data": {
      "text/latex": [
       "$\\displaystyle - 12 x^{4} \\sin{\\left(\\cos{\\left(x \\right)} \\right)} - 18 x^{3} + 5 x^{2} + 10 x - 30$"
      ],
      "text/plain": [
       "-12*x**4*sin(cos(x)) - 18*x**3 + 5*x**2 + 10*x - 30"
      ]
     },
     "execution_count": 1,
     "metadata": {},
     "output_type": "execute_result"
    }
   ],
   "source": [
    "# f(x) = -12x^4*sin(cos(x)) - 18x^3+5x^2 + 10x - 30\n",
    "# 1.Определить корни\n",
    "# 2.Найти интервалы, на которых функция возрастает\n",
    "# 3.Найти интервалы, на которых функция убывает\n",
    "# 4.Построить график\n",
    "# 5.Вычислить вершину\n",
    "# 6.Определить промежутки, на котором f > 0\n",
    "# 7.Определить промежутки, на котором f < 0\n",
    "\n",
    "from sympy import *\n",
    "\n",
    "x = Symbol('x')\n",
    "expr = -12*x**4*sin(cos(x))-18*x**3+5*x**2+10*x-30\n",
    "expr"
   ]
  },
  {
   "cell_type": "code",
   "execution_count": 70,
   "id": "1b21d989",
   "metadata": {},
   "outputs": [
    {
     "data": {
      "image/png": "[encoded data removed]",
      "text/plain": [
       "<Figure size 640x480 with 1 Axes>"
      ]
     },
     "metadata": {},
     "output_type": "display_data"
    }
   ],
   "source": [
    "# Построим график функции в интервале значений x от -5,5 до 5,0\n",
    "from sympy.plotting import plot\n",
    "begin, end = -25.0, 25.0 # интервал исследования функции\n",
    "\n",
    "p1 = plot(expr, (x, begin, end))"
   ]
  },
  {
   "cell_type": "code",
   "execution_count": 71,
   "id": "1d11c68c",
   "metadata": {},
   "outputs": [
    {
     "name": "stdout",
     "output_type": "stream",
     "text": [
      "Корни:\n",
      "-23.62619729643611\n",
      "-20.345594135942548\n",
      "-17.366552506907745\n",
      "-14.02805599166234\n",
      "-11.133769061035819\n",
      "-7.650622285132755\n",
      "-5.026865928206212\n",
      "-1.3389666392771093\n",
      "2.273056845756222\n",
      "4.3835236979688865\n",
      "8.035164133413524\n",
      "10.860649989594162\n",
      "14.240584810251637\n",
      "17.19284807004507\n",
      "20.492600063216873\n",
      "23.498838876455114\n"
     ]
    }
   ],
   "source": [
    "# Определим корни функции в интервале значений x от -5,5 до 5,0\n",
    "from scipy import optimize\n",
    "\n",
    "def f(x):\n",
    "    return -12*x**4*sin(cos(x))-18*x**3+5*x**2+10*x-30\n",
    "\n",
    "def f_roots(func):\n",
    "    d = 0.01\n",
    "    fr = []\n",
    "    for i in range(int(begin/d),int(end/d)+1):\n",
    "        a,b = i*d, i*d+d\n",
    "        try:\n",
    "            root = optimize.brentq(f, a, b)\n",
    "        except:\n",
    "            continue\n",
    "        else:\n",
    "            fr.append(root)\n",
    "    return fr\n",
    "print('Корни:')\n",
    "for i in f_roots(f):\n",
    "    print(i)"
   ]
  },
  {
   "cell_type": "code",
   "execution_count": 72,
   "id": "c5c935c6",
   "metadata": {},
   "outputs": [
    {
     "name": "stdout",
     "output_type": "stream",
     "text": [
      "На промежутке от -25.0 до -23.626: f(x) < 0\n",
      "На промежутке от -23.626 до -20.346: f(x) > 0\n",
      "На промежутке от -20.346 до -17.367: f(x) < 0\n",
      "На промежутке от -17.367 до -14.028: f(x) > 0\n",
      "На промежутке от -14.028 до -11.134: f(x) < 0\n",
      "На промежутке от -11.134 до -7.651: f(x) > 0\n",
      "На промежутке от -7.651 до -5.027: f(x) < 0\n",
      "На промежутке от -5.027 до -1.339: f(x) > 0\n",
      "На промежутке от -1.339 до 2.273: f(x) < 0\n",
      "На промежутке от 2.273 до 4.384: f(x) > 0\n",
      "На промежутке от 4.384 до 8.035: f(x) < 0\n",
      "На промежутке от 8.035 до 10.861: f(x) > 0\n",
      "На промежутке от 10.861 до 14.241: f(x) < 0\n",
      "На промежутке от 14.241 до 17.193: f(x) > 0\n",
      "На промежутке от 17.193 до 20.493: f(x) < 0\n",
      "На промежутке от 20.493 до 23.499: f(x) > 0\n",
      "На промежутке от 23.499 до 25.0: f(x) < 0\n"
     ]
    }
   ],
   "source": [
    "# Определим промежутки, на которых f(x) > 0 и f(x) < 0\n",
    "def check_pos_neg(a,b):\n",
    "    x = (a + b) / 2\n",
    "    y = f(x)\n",
    "    if y>0:\n",
    "        print(f'На промежутке от {a} до {b}: f(x) > 0')\n",
    "    else:\n",
    "        print(f'На промежутке от {a} до {b}: f(x) < 0')\n",
    "\n",
    "r=f_roots(f)\n",
    "r.insert(0, begin)\n",
    "r.append(end)\n",
    "for i in range(len(r)-1):\n",
    "    check_pos_neg(round(r[i],3), round(r[i+1],3))    \n"
   ]
  },
  {
   "cell_type": "code",
   "execution_count": 73,
   "id": "473bc5ab",
   "metadata": {},
   "outputs": [
    {
     "name": "stdout",
     "output_type": "stream",
     "text": [
      "Вершины:\n",
      "-22.27\n",
      "-19.13\n",
      "-16.08\n",
      "-12.94\n",
      "-9.98\n",
      "-6.83\n",
      "-4.17\n",
      "-0.39\n",
      "0.45\n",
      "1.7\n",
      "3.82\n",
      "7.0\n",
      "9.88\n",
      "13.01\n",
      "16.03\n",
      "19.17\n",
      "22.24\n"
     ]
    }
   ],
   "source": [
    "# Вычислим вершины функции в интервале значений x от -5,5 до 5,0\n",
    "d = 0.001\n",
    "up_down = []\n",
    "points_x = [x*d for x in range(int(begin/d),int(end/d+1))]\n",
    "points_y = list(map(lambda x: f(x), points_x))\n",
    "for i in range(0,len(points_y)-1):\n",
    "    dy = points_y[i+1] - points_y[i]\n",
    "    if dy > 0:\n",
    "        up_down.append(1)\n",
    "    elif dy < 0:\n",
    "        up_down.append(-1)\n",
    "    else:\n",
    "        up_down.append(0)\n",
    "tops = []\n",
    "for i in range(0,len(up_down)-1):\n",
    "    if up_down[i] != up_down[i+1]:\n",
    "        top = (points_x[i] + points_x[i+1])/2\n",
    "        tops.append(top)\n",
    "print('Вершины:')\n",
    "for i in tops:\n",
    "    print(round(i,2))"
   ]
  },
  {
   "cell_type": "code",
   "execution_count": 74,
   "id": "183cb153",
   "metadata": {},
   "outputs": [
    {
     "name": "stdout",
     "output_type": "stream",
     "text": [
      "На интервале от -25.0 до -22.27 функция возрастает\n",
      "На интервале от -22.27 до -19.13 функция убывает\n",
      "На интервале от -19.13 до -16.08 функция возрастает\n",
      "На интервале от -16.08 до -12.94 функция убывает\n",
      "На интервале от -12.94 до -9.98 функция возрастает\n",
      "На интервале от -9.98 до -6.83 функция убывает\n",
      "На интервале от -6.83 до -4.17 функция возрастает\n",
      "На интервале от -4.17 до -0.39 функция убывает\n",
      "На интервале от -0.39 до 0.45 функция возрастает\n",
      "На интервале от 0.45 до 1.7 функция убывает\n",
      "На интервале от 1.7 до 3.82 функция возрастает\n",
      "На интервале от 3.82 до 7.0 функция убывает\n",
      "На интервале от 7.0 до 9.88 функция возрастает\n",
      "На интервале от 9.88 до 13.01 функция убывает\n",
      "На интервале от 13.01 до 16.03 функция возрастает\n",
      "На интервале от 16.03 до 19.17 функция убывает\n",
      "На интервале от 19.17 до 22.24 функция возрастает\n",
      "На интервале от 22.24 до 25.0 функция убывает\n"
     ]
    }
   ],
   "source": [
    "# Найдем интервалы, на которых функция возрастает и на которых функция убывает\n",
    "def check_up_down(a,b):\n",
    "    dy = f(b) - f(a)\n",
    "    if dy > 0:\n",
    "        print(f'На интервале от {a} до {b} функция возрастает')\n",
    "    else:\n",
    "        print(f'На интервале от {a} до {b} функция убывает')\n",
    "t = list(map(lambda x : round(x, 2), tops))\n",
    "t.insert(0, begin)\n",
    "t.append(end)\n",
    "for i in range(len(t)-1):\n",
    "    check_up_down(t[i],t[i+1])\n"
   ]
  }
 ],
 "metadata": {
  "kernelspec": {
   "display_name": "Python 3.10.7 64-bit",
   "language": "python",
   "name": "python3"
  },
  "language_info": {
   "codemirror_mode": {
    "name": "ipython",
    "version": 3
   },
   "file_extension": ".py",
   "mimetype": "text/x-python",
   "name": "python",
   "nbconvert_exporter": "python",
   "pygments_lexer": "ipython3",
   "version": "3.10.7"
  },
  "vscode": {
   "interpreter": {
    "hash": "c102ba33308e7188348223ee36367e68e483f94524159cf0b9e4f80483f9fa5b"
   }
  }
 },
 "nbformat": 4,
 "nbformat_minor": 5
}
